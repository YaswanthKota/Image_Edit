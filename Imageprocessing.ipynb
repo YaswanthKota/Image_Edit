{
  "nbformat": 4,
  "nbformat_minor": 0,
  "metadata": {
    "colab": {
      "name": "Imageprocessing.ipynb",
      "provenance": [],
      "collapsed_sections": [],
      "authorship_tag": "ABX9TyMs/adMdM9IJSEjTJ0cixu1",
      "include_colab_link": true
    },
    "kernelspec": {
      "name": "python3",
      "display_name": "Python 3"
    }
  },
  "cells": [
    {
      "cell_type": "markdown",
      "metadata": {
        "id": "view-in-github",
        "colab_type": "text"
      },
      "source": [
        "<a href=\"https://colab.research.google.com/github/YaswanthKota/Image_Processing/blob/master/Imageprocessing.ipynb\" target=\"_parent\"><img src=\"https://colab.research.google.com/assets/colab-badge.svg\" alt=\"Open In Colab\"/></a>"
      ]
    },
    {
      "cell_type": "code",
      "metadata": {
        "id": "eYXpCozDxxAw",
        "colab_type": "code",
        "colab": {
          "base_uri": "https://localhost:8080/",
          "height": 34
        },
        "outputId": "5775b544-dbdf-48a2-e41e-fee2f9e9fbc0"
      },
      "source": [
        "pip install PILLOW"
      ],
      "execution_count": 9,
      "outputs": [
        {
          "output_type": "stream",
          "text": [
            "Requirement already satisfied: PILLOW in /usr/local/lib/python3.6/dist-packages (7.0.0)\n"
          ],
          "name": "stdout"
        }
      ]
    },
    {
      "cell_type": "code",
      "metadata": {
        "id": "fJP1RW-PyuUo",
        "colab_type": "code",
        "colab": {}
      },
      "source": [
        "from PIL import Image"
      ],
      "execution_count": 10,
      "outputs": []
    },
    {
      "cell_type": "code",
      "metadata": {
        "id": "clF0ofvry0cD",
        "colab_type": "code",
        "colab": {}
      },
      "source": [
        "im1 = Image.open('/content/d.jpg')\n"
      ],
      "execution_count": 11,
      "outputs": []
    },
    {
      "cell_type": "code",
      "metadata": {
        "id": "TWrVzkVHy9pr",
        "colab_type": "code",
        "colab": {}
      },
      "source": [
        "def rotate(x):\n",
        "    print(' Enter degrees to rotate')\n",
        "    k=int(input())\n",
        "    print(' Do you want to save the pic')\n",
        "    print(' Enter \"Y\" if yes or \"N\" if no')\n",
        "    requirement=input()\n",
        "    if requirement.lower()=='n':\n",
        "        l=x.rotate(k)\n",
        "        print(' Your pic is editing.........:)')\n",
        "        l.show()\n",
        "        print()\n",
        "    elif requirement.lower()=='y':\n",
        "        l=x.rotate(k)\n",
        "        s=l.save(\"newpic.jpg\")\n",
        "        print(' your pic is saved in the name of newpic.jpg')\n",
        "    else:\n",
        "        print(' please enter the valid option')\n",
        "def bw(y):\n",
        "    #print(z.size)\n",
        "    z=y\n",
        "    f=z.convert('L')\n",
        "    print(' Your pic is editing..........:)')\n",
        "    f.show()\n",
        "    k=f.save('bw.jpg')\n",
        "    print('Saved as bw.jpg')\n",
        "def crop(pic):\n",
        "    y=pic\n",
        "    print(pic.size)\n",
        "    w=y.crop((300,100,700,1200))\n",
        "    print(' Your pic is editing..........:)')\n",
        "    #print(pic.size)\n",
        "    z=w.show()\n",
        "    x=w.save('crop.jpg')\n",
        "    print('Saved as crop.jpg')\n",
        "def main():\n",
        "    print(' The editing options we are having are:')\n",
        "    print(' 1.Rotating the image')\n",
        "    print(' 2.converting the image into black and white')\n",
        "    print(' 3.Crop the pic')\n",
        "    print(' choose one option from above displayed in  numbers')\n",
        "    option=int(input())\n",
        "    if option==1:\n",
        "        rotate(im1)\n",
        "    elif option==2:\n",
        "        bw(im1)\n",
        "    elif option==3:\n",
        "        crop(im1)\n"
      ],
      "execution_count": 13,
      "outputs": []
    },
    {
      "cell_type": "code",
      "metadata": {
        "id": "HsNAt6OK0pHC",
        "colab_type": "code",
        "colab": {
          "base_uri": "https://localhost:8080/",
          "height": 221
        },
        "outputId": "e03506cd-c401-4f54-caf3-1edada6a4546"
      },
      "source": [
        "main()"
      ],
      "execution_count": 14,
      "outputs": [
        {
          "output_type": "stream",
          "text": [
            " The editing options we are having are:\n",
            " 1.Rotating the image\n",
            " 2.converting the image into black and white\n",
            " 3.Crop the pic\n",
            " choose one option from above displayed in  numbers\n",
            "1\n",
            " Enter degrees to rotate\n",
            "90\n",
            " Do you want to save the pic\n",
            " Enter \"Y\" if yes or \"N\" if no\n",
            "y\n",
            " your pic is saved in the name of newpic.jpg\n"
          ],
          "name": "stdout"
        }
      ]
    },
    {
      "cell_type": "code",
      "metadata": {
        "id": "p7Z_XgQM654M",
        "colab_type": "code",
        "colab": {
          "base_uri": "https://localhost:8080/",
          "height": 153
        },
        "outputId": "1bd3d597-66b6-4ec7-99d2-b91ac00847be"
      },
      "source": [
        "main()\n"
      ],
      "execution_count": 15,
      "outputs": [
        {
          "output_type": "stream",
          "text": [
            " The editing options we are having are:\n",
            " 1.Rotating the image\n",
            " 2.converting the image into black and white\n",
            " 3.Crop the pic\n",
            " choose one option from above displayed in  numbers\n",
            "2\n",
            " Your pic is editing..........:)\n",
            "Saved as bw.jpg\n"
          ],
          "name": "stdout"
        }
      ]
    },
    {
      "cell_type": "code",
      "metadata": {
        "id": "N1Mj7fM27FnC",
        "colab_type": "code",
        "colab": {
          "base_uri": "https://localhost:8080/",
          "height": 170
        },
        "outputId": "75238211-7fac-4f46-f05b-608ff790e4f3"
      },
      "source": [
        "main()\n"
      ],
      "execution_count": 16,
      "outputs": [
        {
          "output_type": "stream",
          "text": [
            " The editing options we are having are:\n",
            " 1.Rotating the image\n",
            " 2.converting the image into black and white\n",
            " 3.Crop the pic\n",
            " choose one option from above displayed in  numbers\n",
            "3\n",
            "(1000, 1250)\n",
            " Your pic is editing..........:)\n",
            "Saved as crop.jpg\n"
          ],
          "name": "stdout"
        }
      ]
    }
  ]
}