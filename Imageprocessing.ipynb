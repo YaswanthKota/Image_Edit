{
  "nbformat": 4,
  "nbformat_minor": 0,
  "metadata": {
    "colab": {
      "name": "Imageprocessing.ipynb",
      "provenance": [],
      "collapsed_sections": [],
      "authorship_tag": "ABX9TyO763cf9FfH3dVsh3JCfCnH",
      "include_colab_link": true
    },
    "kernelspec": {
      "name": "python3",
      "display_name": "Python 3"
    }
  },
  "cells": [
    {
      "cell_type": "markdown",
      "metadata": {
        "id": "view-in-github",
        "colab_type": "text"
      },
      "source": [
        "<a href=\"https://colab.research.google.com/github/YaswanthKota/Image_Processing/blob/master/Imageprocessing.ipynb\" target=\"_parent\"><img src=\"https://colab.research.google.com/assets/colab-badge.svg\" alt=\"Open In Colab\"/></a>"
      ]
    },
    {
      "cell_type": "code",
      "metadata": {
        "id": "eYXpCozDxxAw",
        "colab_type": "code",
        "colab": {
          "base_uri": "https://localhost:8080/",
          "height": 34
        },
        "outputId": "76eb63d6-2f4c-4254-c88e-d8925795b41e"
      },
      "source": [
        "pip install PILLOW"
      ],
      "execution_count": 40,
      "outputs": [
        {
          "output_type": "stream",
          "text": [
            "Requirement already satisfied: PILLOW in /usr/local/lib/python3.6/dist-packages (7.0.0)\n"
          ],
          "name": "stdout"
        }
      ]
    },
    {
      "cell_type": "code",
      "metadata": {
        "id": "fJP1RW-PyuUo",
        "colab_type": "code",
        "colab": {}
      },
      "source": [
        "from PIL import Image"
      ],
      "execution_count": 41,
      "outputs": []
    },
    {
      "cell_type": "code",
      "metadata": {
        "id": "clF0ofvry0cD",
        "colab_type": "code",
        "colab": {}
      },
      "source": [
        "im1 = Image.open('/content/d.jpg')\n"
      ],
      "execution_count": 42,
      "outputs": []
    },
    {
      "cell_type": "code",
      "metadata": {
        "id": "TWrVzkVHy9pr",
        "colab_type": "code",
        "colab": {
          "base_uri": "https://localhost:8080/",
          "height": 170
        },
        "outputId": "4b00334c-49a0-4188-9389-de2727fcb6fe"
      },
      "source": [
        "print(' The editing options we are having are:')\n",
        "print(' 1.Rotating the image')\n",
        "print(' 2.converting the image into black and white')\n",
        "print(' 3.Crop the pic')\n",
        "print(' choose one option from above displayed in  numbers')\n",
        "option=int(input())\n",
        "\n",
        "def rotate(x):\n",
        "    print(' Enter degrees to rotate')\n",
        "    k=int(input())\n",
        "    print(' Do you want to save the pic')\n",
        "    print(' Enter \"Y\" if yes or \"N\" if no')\n",
        "    requirement=input()\n",
        "    if requirement.lower()=='n':\n",
        "        l=x.rotate(k)\n",
        "        print(' Your pic is editing.........:)')\n",
        "        l.show()\n",
        "    elif requirement.lower()=='y':\n",
        "        l=x.rotate(k)\n",
        "        s=l.save(\"newpic.jpg\")\n",
        "        print(' your pic is saved in the name of new pic')\n",
        "    else:\n",
        "        print(' please enter the valid option')\n",
        "def bw(y):\n",
        "    #print(z.size)\n",
        "    z=y\n",
        "    f=z.convert('L')\n",
        "    print(' Your pic is editing..........:)')\n",
        "    f.show()\n",
        "    k=f.save('bw.jpg')\n",
        "def crop(pic):\n",
        "    y=pic\n",
        "    print(pic.size)\n",
        "    w=y.crop((300,100,700,1200))\n",
        "    print(' Your pic is editing..........:)')\n",
        "    #print(pic.size)\n",
        "    z=w.show()\n",
        "    x=w.save('crop.jpg')\n",
        "    print('Saved as crop.jpg')\n",
        "def main():\n",
        "    if option==1:\n",
        "        rotate(im1)\n",
        "    elif option==2:\n",
        "        bw(im1)\n",
        "    elif option==3:\n",
        "        crop(im1)\n",
        "main()"
      ],
      "execution_count": 43,
      "outputs": [
        {
          "output_type": "stream",
          "text": [
            " The editing options we are having are:\n",
            " 1.Rotating the image\n",
            " 2.converting the image into black and white\n",
            " 3.Crop the pic\n",
            " choose one option from above displayed in  numbers\n",
            "3\n",
            "(1000, 1250)\n",
            " Your pic is editing..........:)\n",
            "Saved as crop.jpg\n"
          ],
          "name": "stdout"
        }
      ]
    },
    {
      "cell_type": "code",
      "metadata": {
        "id": "HsNAt6OK0pHC",
        "colab_type": "code",
        "colab": {}
      },
      "source": [
        ""
      ],
      "execution_count": 43,
      "outputs": []
    }
  ]
}